{
 "cells": [
  {
   "cell_type": "code",
   "execution_count": 7,
   "metadata": {},
   "outputs": [],
   "source": [
    "import pandas as pd\n",
    "import numpy as np \n",
    "import finnhub\n",
    "from dotenv import load_dotenv\n",
    "import os\n",
    "from kafka import KafkaConsumer, KafkaProducer\n",
    "from time import sleep\n",
    "import json\n",
    "import websocket"
   ]
  },
  {
   "cell_type": "code",
   "execution_count": 12,
   "metadata": {},
   "outputs": [],
   "source": [
    "#producer.send('demo_fin', value = {'name' : 'darshil'})"
   ]
  },
  {
   "cell_type": "code",
   "execution_count": 2,
   "metadata": {},
   "outputs": [],
   "source": [
    "# Kafka function\n",
    "\n",
    "\n",
    "\n",
    "topic = 'demo_fin'\n",
    "\n",
    "\n",
    "def serializer(data):\n",
    "    \"\"\"\n",
    "    Serialize the json input data into bytes\n",
    "    \"\"\"\n",
    "    return json.dumps(data).encode('utf-8')\n",
    "\n",
    "\n",
    "def kafka_producer(address : str):\n",
    "    # producer = KafkaProducer(bootstrap_servers=address, api_version=(3, 0, 0),\n",
    "    #                      value_serializer=lambda x: serializer(x))\n",
    "    \n",
    "    producer_config = {\n",
    "        'bootstrap_servers': address,\n",
    "        'api_version': (3, 0, 0),\n",
    "        'value_serializer': serializer\n",
    "    }\n",
    "    return KafkaProducer(**producer_config)\n"
   ]
  },
  {
   "cell_type": "code",
   "execution_count": 8,
   "metadata": {},
   "outputs": [
    {
     "ename": "TypeError",
     "evalue": "'NoneType' object is not iterable",
     "output_type": "error",
     "traceback": [
      "\u001b[0;31m---------------------------------------------------------------------------\u001b[0m",
      "\u001b[0;31mTypeError\u001b[0m                                 Traceback (most recent call last)",
      "Cell \u001b[0;32mIn[8], line 32\u001b[0m\n\u001b[1;32m     29\u001b[0m     ws\u001b[38;5;241m.\u001b[39msend(\u001b[38;5;124m'\u001b[39m\u001b[38;5;124m{\u001b[39m\u001b[38;5;124m\"\u001b[39m\u001b[38;5;124mtype\u001b[39m\u001b[38;5;124m\"\u001b[39m\u001b[38;5;124m:\u001b[39m\u001b[38;5;124m\"\u001b[39m\u001b[38;5;124msubscribe\u001b[39m\u001b[38;5;124m\"\u001b[39m\u001b[38;5;124m,\u001b[39m\u001b[38;5;124m\"\u001b[39m\u001b[38;5;124msymbol\u001b[39m\u001b[38;5;124m\"\u001b[39m\u001b[38;5;124m:\u001b[39m\u001b[38;5;124m\"\u001b[39m\u001b[38;5;124mAMZN\u001b[39m\u001b[38;5;124m\"\u001b[39m\u001b[38;5;124m}\u001b[39m\u001b[38;5;124m'\u001b[39m)\n\u001b[1;32m     31\u001b[0m \u001b[38;5;28;01mif\u001b[39;00m \u001b[38;5;18m__name__\u001b[39m \u001b[38;5;241m==\u001b[39m \u001b[38;5;124m\"\u001b[39m\u001b[38;5;124m__main__\u001b[39m\u001b[38;5;124m\"\u001b[39m:\n\u001b[0;32m---> 32\u001b[0m     producer \u001b[38;5;241m=\u001b[39m \u001b[43mkafka_producer\u001b[49m\u001b[43m(\u001b[49m\u001b[43mHOSTNAME\u001b[49m\u001b[43m)\u001b[49m\n\u001b[1;32m     34\u001b[0m     websocket\u001b[38;5;241m.\u001b[39menableTrace(\u001b[38;5;28;01mTrue\u001b[39;00m)\n\u001b[1;32m     35\u001b[0m     ws \u001b[38;5;241m=\u001b[39m websocket\u001b[38;5;241m.\u001b[39mWebSocketApp(\u001b[38;5;124mf\u001b[39m\u001b[38;5;124m\"\u001b[39m\u001b[38;5;124mwss://ws.finnhub.io?token=\u001b[39m\u001b[38;5;132;01m{\u001b[39;00mFINHUB_API_PWD\u001b[38;5;132;01m}\u001b[39;00m\u001b[38;5;124m\"\u001b[39m,\n\u001b[1;32m     36\u001b[0m                                 on_message \u001b[38;5;241m=\u001b[39m \u001b[38;5;28;01mlambda\u001b[39;00m ws, msg: on_message(ws, msg, producer, topic),\n\u001b[1;32m     37\u001b[0m                                 on_error \u001b[38;5;241m=\u001b[39m on_error,\n\u001b[1;32m     38\u001b[0m                                 on_close \u001b[38;5;241m=\u001b[39m on_close)\n",
      "Cell \u001b[0;32mIn[2], line 25\u001b[0m, in \u001b[0;36mkafka_producer\u001b[0;34m(address)\u001b[0m\n\u001b[1;32m     16\u001b[0m \u001b[38;5;28;01mdef\u001b[39;00m \u001b[38;5;21mkafka_producer\u001b[39m(address : \u001b[38;5;28mstr\u001b[39m):\n\u001b[1;32m     17\u001b[0m     \u001b[38;5;66;03m# producer = KafkaProducer(bootstrap_servers=address, api_version=(3, 0, 0),\u001b[39;00m\n\u001b[1;32m     18\u001b[0m     \u001b[38;5;66;03m#                      value_serializer=lambda x: serializer(x))\u001b[39;00m\n\u001b[1;32m     20\u001b[0m     producer_config \u001b[38;5;241m=\u001b[39m {\n\u001b[1;32m     21\u001b[0m         \u001b[38;5;124m'\u001b[39m\u001b[38;5;124mbootstrap_servers\u001b[39m\u001b[38;5;124m'\u001b[39m: address,\n\u001b[1;32m     22\u001b[0m         \u001b[38;5;124m'\u001b[39m\u001b[38;5;124mapi_version\u001b[39m\u001b[38;5;124m'\u001b[39m: (\u001b[38;5;241m3\u001b[39m, \u001b[38;5;241m0\u001b[39m, \u001b[38;5;241m0\u001b[39m),\n\u001b[1;32m     23\u001b[0m         \u001b[38;5;124m'\u001b[39m\u001b[38;5;124mvalue_serializer\u001b[39m\u001b[38;5;124m'\u001b[39m: serializer\n\u001b[1;32m     24\u001b[0m     }\n\u001b[0;32m---> 25\u001b[0m     \u001b[38;5;28;01mreturn\u001b[39;00m \u001b[43mKafkaProducer\u001b[49m\u001b[43m(\u001b[49m\u001b[38;5;241;43m*\u001b[39;49m\u001b[38;5;241;43m*\u001b[39;49m\u001b[43mproducer_config\u001b[49m\u001b[43m)\u001b[49m\n",
      "File \u001b[0;32m~/Desktop/data_engineer_financial_app/financial_app_env/lib/python3.10/site-packages/kafka/producer/kafka.py:381\u001b[0m, in \u001b[0;36mKafkaProducer.__init__\u001b[0;34m(self, **configs)\u001b[0m\n\u001b[1;32m    378\u001b[0m reporters \u001b[38;5;241m=\u001b[39m [reporter() \u001b[38;5;28;01mfor\u001b[39;00m reporter \u001b[38;5;129;01min\u001b[39;00m \u001b[38;5;28mself\u001b[39m\u001b[38;5;241m.\u001b[39mconfig[\u001b[38;5;124m'\u001b[39m\u001b[38;5;124mmetric_reporters\u001b[39m\u001b[38;5;124m'\u001b[39m]]\n\u001b[1;32m    379\u001b[0m \u001b[38;5;28mself\u001b[39m\u001b[38;5;241m.\u001b[39m_metrics \u001b[38;5;241m=\u001b[39m Metrics(metric_config, reporters)\n\u001b[0;32m--> 381\u001b[0m client \u001b[38;5;241m=\u001b[39m \u001b[43mKafkaClient\u001b[49m\u001b[43m(\u001b[49m\u001b[43mmetrics\u001b[49m\u001b[38;5;241;43m=\u001b[39;49m\u001b[38;5;28;43mself\u001b[39;49m\u001b[38;5;241;43m.\u001b[39;49m\u001b[43m_metrics\u001b[49m\u001b[43m,\u001b[49m\u001b[43m \u001b[49m\u001b[43mmetric_group_prefix\u001b[49m\u001b[38;5;241;43m=\u001b[39;49m\u001b[38;5;124;43m'\u001b[39;49m\u001b[38;5;124;43mproducer\u001b[39;49m\u001b[38;5;124;43m'\u001b[39;49m\u001b[43m,\u001b[49m\n\u001b[1;32m    382\u001b[0m \u001b[43m                     \u001b[49m\u001b[43mwakeup_timeout_ms\u001b[49m\u001b[38;5;241;43m=\u001b[39;49m\u001b[38;5;28;43mself\u001b[39;49m\u001b[38;5;241;43m.\u001b[39;49m\u001b[43mconfig\u001b[49m\u001b[43m[\u001b[49m\u001b[38;5;124;43m'\u001b[39;49m\u001b[38;5;124;43mmax_block_ms\u001b[39;49m\u001b[38;5;124;43m'\u001b[39;49m\u001b[43m]\u001b[49m\u001b[43m,\u001b[49m\n\u001b[1;32m    383\u001b[0m \u001b[43m                     \u001b[49m\u001b[38;5;241;43m*\u001b[39;49m\u001b[38;5;241;43m*\u001b[39;49m\u001b[38;5;28;43mself\u001b[39;49m\u001b[38;5;241;43m.\u001b[39;49m\u001b[43mconfig\u001b[49m\u001b[43m)\u001b[49m\n\u001b[1;32m    385\u001b[0m \u001b[38;5;66;03m# Get auto-discovered version from client if necessary\u001b[39;00m\n\u001b[1;32m    386\u001b[0m \u001b[38;5;28;01mif\u001b[39;00m \u001b[38;5;28mself\u001b[39m\u001b[38;5;241m.\u001b[39mconfig[\u001b[38;5;124m'\u001b[39m\u001b[38;5;124mapi_version\u001b[39m\u001b[38;5;124m'\u001b[39m] \u001b[38;5;129;01mis\u001b[39;00m \u001b[38;5;28;01mNone\u001b[39;00m:\n",
      "File \u001b[0;32m~/Desktop/data_engineer_financial_app/financial_app_env/lib/python3.10/site-packages/kafka/client_async.py:210\u001b[0m, in \u001b[0;36mKafkaClient.__init__\u001b[0;34m(self, **configs)\u001b[0m\n\u001b[1;32m    207\u001b[0m \u001b[38;5;28mself\u001b[39m\u001b[38;5;241m.\u001b[39m_wake_r, \u001b[38;5;28mself\u001b[39m\u001b[38;5;241m.\u001b[39m_wake_w \u001b[38;5;241m=\u001b[39m socket\u001b[38;5;241m.\u001b[39msocketpair()\n\u001b[1;32m    208\u001b[0m \u001b[38;5;28mself\u001b[39m\u001b[38;5;241m.\u001b[39m_selector \u001b[38;5;241m=\u001b[39m \u001b[38;5;28mself\u001b[39m\u001b[38;5;241m.\u001b[39mconfig[\u001b[38;5;124m'\u001b[39m\u001b[38;5;124mselector\u001b[39m\u001b[38;5;124m'\u001b[39m]()\n\u001b[0;32m--> 210\u001b[0m \u001b[38;5;28mself\u001b[39m\u001b[38;5;241m.\u001b[39mcluster \u001b[38;5;241m=\u001b[39m \u001b[43mClusterMetadata\u001b[49m\u001b[43m(\u001b[49m\u001b[38;5;241;43m*\u001b[39;49m\u001b[38;5;241;43m*\u001b[39;49m\u001b[38;5;28;43mself\u001b[39;49m\u001b[38;5;241;43m.\u001b[39;49m\u001b[43mconfig\u001b[49m\u001b[43m)\u001b[49m\n\u001b[1;32m    211\u001b[0m \u001b[38;5;28mself\u001b[39m\u001b[38;5;241m.\u001b[39m_topics \u001b[38;5;241m=\u001b[39m \u001b[38;5;28mset\u001b[39m()  \u001b[38;5;66;03m# empty set will fetch all topic metadata\u001b[39;00m\n\u001b[1;32m    212\u001b[0m \u001b[38;5;28mself\u001b[39m\u001b[38;5;241m.\u001b[39m_metadata_refresh_in_progress \u001b[38;5;241m=\u001b[39m \u001b[38;5;28;01mFalse\u001b[39;00m\n",
      "File \u001b[0;32m~/Desktop/data_engineer_financial_app/financial_app_env/lib/python3.10/site-packages/kafka/cluster.py:67\u001b[0m, in \u001b[0;36mClusterMetadata.__init__\u001b[0;34m(self, **configs)\u001b[0m\n\u001b[1;32m     64\u001b[0m     \u001b[38;5;28;01mif\u001b[39;00m key \u001b[38;5;129;01min\u001b[39;00m configs:\n\u001b[1;32m     65\u001b[0m         \u001b[38;5;28mself\u001b[39m\u001b[38;5;241m.\u001b[39mconfig[key] \u001b[38;5;241m=\u001b[39m configs[key]\n\u001b[0;32m---> 67\u001b[0m \u001b[38;5;28mself\u001b[39m\u001b[38;5;241m.\u001b[39m_bootstrap_brokers \u001b[38;5;241m=\u001b[39m \u001b[38;5;28;43mself\u001b[39;49m\u001b[38;5;241;43m.\u001b[39;49m\u001b[43m_generate_bootstrap_brokers\u001b[49m\u001b[43m(\u001b[49m\u001b[43m)\u001b[49m\n\u001b[1;32m     68\u001b[0m \u001b[38;5;28mself\u001b[39m\u001b[38;5;241m.\u001b[39m_coordinator_brokers \u001b[38;5;241m=\u001b[39m {}\n",
      "File \u001b[0;32m~/Desktop/data_engineer_financial_app/financial_app_env/lib/python3.10/site-packages/kafka/cluster.py:72\u001b[0m, in \u001b[0;36mClusterMetadata._generate_bootstrap_brokers\u001b[0;34m(self)\u001b[0m\n\u001b[1;32m     70\u001b[0m \u001b[38;5;28;01mdef\u001b[39;00m \u001b[38;5;21m_generate_bootstrap_brokers\u001b[39m(\u001b[38;5;28mself\u001b[39m):\n\u001b[1;32m     71\u001b[0m     \u001b[38;5;66;03m# collect_hosts does not perform DNS, so we should be fine to re-use\u001b[39;00m\n\u001b[0;32m---> 72\u001b[0m     bootstrap_hosts \u001b[38;5;241m=\u001b[39m \u001b[43mcollect_hosts\u001b[49m\u001b[43m(\u001b[49m\u001b[38;5;28;43mself\u001b[39;49m\u001b[38;5;241;43m.\u001b[39;49m\u001b[43mconfig\u001b[49m\u001b[43m[\u001b[49m\u001b[38;5;124;43m'\u001b[39;49m\u001b[38;5;124;43mbootstrap_servers\u001b[39;49m\u001b[38;5;124;43m'\u001b[39;49m\u001b[43m]\u001b[49m\u001b[43m)\u001b[49m\n\u001b[1;32m     74\u001b[0m     brokers \u001b[38;5;241m=\u001b[39m {}\n\u001b[1;32m     75\u001b[0m     \u001b[38;5;28;01mfor\u001b[39;00m i, (host, port, _) \u001b[38;5;129;01min\u001b[39;00m \u001b[38;5;28menumerate\u001b[39m(bootstrap_hosts):\n",
      "File \u001b[0;32m~/Desktop/data_engineer_financial_app/financial_app_env/lib/python3.10/site-packages/kafka/conn.py:1495\u001b[0m, in \u001b[0;36mcollect_hosts\u001b[0;34m(hosts, randomize)\u001b[0m\n\u001b[1;32m   1493\u001b[0m result \u001b[38;5;241m=\u001b[39m []\n\u001b[1;32m   1494\u001b[0m afi \u001b[38;5;241m=\u001b[39m socket\u001b[38;5;241m.\u001b[39mAF_INET\n\u001b[0;32m-> 1495\u001b[0m \u001b[38;5;28;01mfor\u001b[39;00m host_port \u001b[38;5;129;01min\u001b[39;00m hosts:\n\u001b[1;32m   1497\u001b[0m     host, port, afi \u001b[38;5;241m=\u001b[39m get_ip_port_afi(host_port)\n\u001b[1;32m   1499\u001b[0m     \u001b[38;5;28;01mif\u001b[39;00m port \u001b[38;5;241m<\u001b[39m \u001b[38;5;241m0\u001b[39m:\n",
      "\u001b[0;31mTypeError\u001b[0m: 'NoneType' object is not iterable"
     ]
    }
   ],
   "source": [
    "#https://pypi.org/project/websocket_client/\n",
    "\n",
    "#Load env\n",
    "load_dotenv()\n",
    "FINHUB_API_PWD = os.getenv('FINHUB_API_PWD')\n",
    "KAFKA_SERVER = os.getenv('KAFKA_SERVER')\n",
    "\n",
    "\n",
    "\n",
    "\n",
    "def on_message(ws, message, producer, topic : str):\n",
    "    print('THIS IS THE MESSAGE : ', message)\n",
    "    message_data = json.loads(message)\n",
    "    print(message_data)\n",
    "    for trades in message_data['data']:\n",
    "        sleep(0.5)\n",
    "        producer.send(topic, value = trades)\n",
    "        producer.flush()\n",
    "\n",
    "    \n",
    "\n",
    "def on_error(ws, error):\n",
    "    print(error)\n",
    "\n",
    "def on_close(ws):\n",
    "    print(\"### closed ###\")\n",
    "\n",
    "def on_open(ws):\n",
    "    ws.send('{\"type\":\"subscribe\",\"symbol\":\"AMZN\"}')\n",
    "\n",
    "if __name__ == \"__main__\":\n",
    "    producer = kafka_producer(KAFKA_SERVER)\n",
    "\n",
    "    websocket.enableTrace(True)\n",
    "    ws = websocket.WebSocketApp(f\"wss://ws.finnhub.io?token={FINHUB_API_PWD}\",\n",
    "                                on_message = lambda ws, msg: on_message(ws, msg, producer, topic),\n",
    "                                on_error = on_error,\n",
    "                                on_close = on_close)\n",
    "    ws.on_open = on_open\n",
    "    ws.run_forever()"
   ]
  },
  {
   "cell_type": "code",
   "execution_count": 31,
   "metadata": {},
   "outputs": [],
   "source": [
    "producer.flush()"
   ]
  },
  {
   "cell_type": "code",
   "execution_count": null,
   "metadata": {},
   "outputs": [],
   "source": []
  },
  {
   "cell_type": "code",
   "execution_count": null,
   "metadata": {},
   "outputs": [],
   "source": []
  },
  {
   "cell_type": "code",
   "execution_count": null,
   "metadata": {},
   "outputs": [],
   "source": []
  },
  {
   "cell_type": "code",
   "execution_count": null,
   "metadata": {},
   "outputs": [],
   "source": []
  },
  {
   "cell_type": "code",
   "execution_count": 9,
   "metadata": {},
   "outputs": [],
   "source": []
  },
  {
   "cell_type": "code",
   "execution_count": null,
   "metadata": {},
   "outputs": [],
   "source": []
  },
  {
   "cell_type": "code",
   "execution_count": 11,
   "metadata": {},
   "outputs": [],
   "source": [
    "# Setup client\n",
    "finnhub_client = finnhub.Client(api_key=FINHUB_API_PWD)\n"
   ]
  },
  {
   "cell_type": "code",
   "execution_count": 14,
   "metadata": {},
   "outputs": [],
   "source": [
    "\n",
    "# Basic financials\n",
    "result = finnhub_client.company_basic_financials('AAPL', 'all')"
   ]
  },
  {
   "cell_type": "code",
   "execution_count": 18,
   "metadata": {},
   "outputs": [],
   "source": [
    "# Company News\n",
    "# Need to use _from instead of from to avoid conflict\n",
    "result = finnhub_client.company_news('AAPL', _from=\"2020-06-01\", to=\"2023-06-10\")"
   ]
  },
  {
   "cell_type": "code",
   "execution_count": 22,
   "metadata": {},
   "outputs": [
    {
     "name": "stdout",
     "output_type": "stream",
     "text": [
      "Apple bulls believe Vision Pro could be a category-defining device, possibly even eclipsing the Apple Watch. See why investors must be cautious about their risk/reward.\n"
     ]
    }
   ],
   "source": [
    "print(pd.DataFrame(result)['summary'][0])"
   ]
  }
 ],
 "metadata": {
  "kernelspec": {
   "display_name": "financial_app_env",
   "language": "python",
   "name": "python3"
  },
  "language_info": {
   "codemirror_mode": {
    "name": "ipython",
    "version": 3
   },
   "file_extension": ".py",
   "mimetype": "text/x-python",
   "name": "python",
   "nbconvert_exporter": "python",
   "pygments_lexer": "ipython3",
   "version": "3.10.9"
  }
 },
 "nbformat": 4,
 "nbformat_minor": 2
}
